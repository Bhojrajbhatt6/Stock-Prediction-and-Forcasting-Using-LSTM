{
 "cells": [
  {
   "cell_type": "code",
   "execution_count": 3,
   "id": "2ac374e3",
   "metadata": {},
   "outputs": [],
   "source": [
    "import pandas as pd\n",
    "import numpy as np\n",
    "import matplotlib.pyplot as plt"
   ]
  },
  {
   "cell_type": "code",
   "execution_count": 4,
   "id": "7b61014f",
   "metadata": {},
   "outputs": [],
   "source": [
    "df = pd.read_csv('/Users/bhojraj/Downloads/TSLA.csv')"
   ]
  },
  {
   "cell_type": "code",
   "execution_count": 5,
   "id": "bb8013d1",
   "metadata": {},
   "outputs": [
    {
     "data": {
      "text/html": [
       "<div>\n",
       "<style scoped>\n",
       "    .dataframe tbody tr th:only-of-type {\n",
       "        vertical-align: middle;\n",
       "    }\n",
       "\n",
       "    .dataframe tbody tr th {\n",
       "        vertical-align: top;\n",
       "    }\n",
       "\n",
       "    .dataframe thead th {\n",
       "        text-align: right;\n",
       "    }\n",
       "</style>\n",
       "<table border=\"1\" class=\"dataframe\">\n",
       "  <thead>\n",
       "    <tr style=\"text-align: right;\">\n",
       "      <th></th>\n",
       "      <th>Date</th>\n",
       "      <th>Open</th>\n",
       "      <th>High</th>\n",
       "      <th>Low</th>\n",
       "      <th>Close</th>\n",
       "      <th>Adj Close</th>\n",
       "      <th>Volume</th>\n",
       "    </tr>\n",
       "  </thead>\n",
       "  <tbody>\n",
       "    <tr>\n",
       "      <th>0</th>\n",
       "      <td>2010-06-29</td>\n",
       "      <td>3.800</td>\n",
       "      <td>5.000</td>\n",
       "      <td>3.508</td>\n",
       "      <td>4.778</td>\n",
       "      <td>4.778</td>\n",
       "      <td>93831500</td>\n",
       "    </tr>\n",
       "    <tr>\n",
       "      <th>1</th>\n",
       "      <td>2010-06-30</td>\n",
       "      <td>5.158</td>\n",
       "      <td>6.084</td>\n",
       "      <td>4.660</td>\n",
       "      <td>4.766</td>\n",
       "      <td>4.766</td>\n",
       "      <td>85935500</td>\n",
       "    </tr>\n",
       "    <tr>\n",
       "      <th>2</th>\n",
       "      <td>2010-07-01</td>\n",
       "      <td>5.000</td>\n",
       "      <td>5.184</td>\n",
       "      <td>4.054</td>\n",
       "      <td>4.392</td>\n",
       "      <td>4.392</td>\n",
       "      <td>41094000</td>\n",
       "    </tr>\n",
       "    <tr>\n",
       "      <th>3</th>\n",
       "      <td>2010-07-02</td>\n",
       "      <td>4.600</td>\n",
       "      <td>4.620</td>\n",
       "      <td>3.742</td>\n",
       "      <td>3.840</td>\n",
       "      <td>3.840</td>\n",
       "      <td>25699000</td>\n",
       "    </tr>\n",
       "    <tr>\n",
       "      <th>4</th>\n",
       "      <td>2010-07-06</td>\n",
       "      <td>4.000</td>\n",
       "      <td>4.000</td>\n",
       "      <td>3.166</td>\n",
       "      <td>3.222</td>\n",
       "      <td>3.222</td>\n",
       "      <td>34334500</td>\n",
       "    </tr>\n",
       "  </tbody>\n",
       "</table>\n",
       "</div>"
      ],
      "text/plain": [
       "         Date   Open   High    Low  Close  Adj Close    Volume\n",
       "0  2010-06-29  3.800  5.000  3.508  4.778      4.778  93831500\n",
       "1  2010-06-30  5.158  6.084  4.660  4.766      4.766  85935500\n",
       "2  2010-07-01  5.000  5.184  4.054  4.392      4.392  41094000\n",
       "3  2010-07-02  4.600  4.620  3.742  3.840      3.840  25699000\n",
       "4  2010-07-06  4.000  4.000  3.166  3.222      3.222  34334500"
      ]
     },
     "execution_count": 5,
     "metadata": {},
     "output_type": "execute_result"
    }
   ],
   "source": [
    "df.head()"
   ]
  },
  {
   "cell_type": "code",
   "execution_count": 6,
   "id": "8abbd99f",
   "metadata": {},
   "outputs": [],
   "source": [
    "# taking Close column"
   ]
  },
  {
   "cell_type": "code",
   "execution_count": 7,
   "id": "c2c1af91",
   "metadata": {},
   "outputs": [],
   "source": [
    "df1=df.reset_index()['Close']"
   ]
  },
  {
   "cell_type": "code",
   "execution_count": 8,
   "id": "5546a9de",
   "metadata": {},
   "outputs": [
    {
     "data": {
      "text/plain": [
       "0    4.778\n",
       "1    4.766\n",
       "2    4.392\n",
       "3    3.840\n",
       "4    3.222\n",
       "Name: Close, dtype: float64"
      ]
     },
     "execution_count": 8,
     "metadata": {},
     "output_type": "execute_result"
    }
   ],
   "source": [
    "df1.head()"
   ]
  },
  {
   "cell_type": "code",
   "execution_count": 9,
   "id": "6d03464a",
   "metadata": {},
   "outputs": [
    {
     "data": {
      "text/plain": [
       "[<matplotlib.lines.Line2D at 0x10bb4ef10>]"
      ]
     },
     "execution_count": 9,
     "metadata": {},
     "output_type": "execute_result"
    },
    {
     "data": {
      "image/png": "[encoded data removed]",
      "text/plain": [
       "<Figure size 640x480 with 1 Axes>"
      ]
     },
     "metadata": {},
     "output_type": "display_data"
    }
   ],
   "source": [
    "plt.plot(df1)"
   ]
  },
  {
   "cell_type": "code",
   "execution_count": 10,
   "id": "46f5e3af",
   "metadata": {},
   "outputs": [],
   "source": [
    "# LSTM are scale sensetive , so we need to scalethe data, for this we will use MinMaxScaler"
   ]
  },
  {
   "cell_type": "code",
   "execution_count": 11,
   "id": "7abb7162",
   "metadata": {},
   "outputs": [],
   "source": [
    "from sklearn.preprocessing import MinMaxScaler\n",
    "scaler = MinMaxScaler(feature_range =(0,1))\n",
    "df1 = scaler.fit_transform(np.array(df1).reshape(-1,1))"
   ]
  },
  {
   "cell_type": "code",
   "execution_count": 12,
   "id": "3dc90b2e",
   "metadata": {},
   "outputs": [
    {
     "data": {
      "text/plain": [
       "(2956, 1)"
      ]
     },
     "execution_count": 12,
     "metadata": {},
     "output_type": "execute_result"
    }
   ],
   "source": [
    "df1.shape"
   ]
  },
  {
   "cell_type": "markdown",
   "id": "431ccdfb",
   "metadata": {},
   "source": [
    "# Split the dataset into Train and Test data"
   ]
  },
  {
   "cell_type": "code",
   "execution_count": 13,
   "id": "0755d6f3",
   "metadata": {},
   "outputs": [],
   "source": [
    "training_size=int(len(df1)*0.65)\n",
    "test_size=len(df1)-training_size"
   ]
  },
  {
   "cell_type": "code",
   "execution_count": 14,
   "id": "80ab2089",
   "metadata": {},
   "outputs": [
    {
     "data": {
      "text/plain": [
       "1921"
      ]
     },
     "execution_count": 14,
     "metadata": {},
     "output_type": "execute_result"
    }
   ],
   "source": [
    "training_size"
   ]
  },
  {
   "cell_type": "code",
   "execution_count": 15,
   "id": "c8d8d9b5",
   "metadata": {},
   "outputs": [
    {
     "data": {
      "text/plain": [
       "1035"
      ]
     },
     "execution_count": 15,
     "metadata": {},
     "output_type": "execute_result"
    }
   ],
   "source": [
    "test_size"
   ]
  },
  {
   "cell_type": "code",
   "execution_count": 16,
   "id": "c64fdfc6",
   "metadata": {},
   "outputs": [],
   "source": [
    "train_data = df1[0:training_size,:]\n",
    "test_data= df1[training_size:len(df1),:1]"
   ]
  },
  {
   "cell_type": "code",
   "execution_count": 17,
   "id": "00be7c1b",
   "metadata": {},
   "outputs": [],
   "source": [
    "# convert the array of values into dataset metrix(sequential data)"
   ]
  },
  {
   "cell_type": "code",
   "execution_count": 18,
   "id": "034939d5",
   "metadata": {},
   "outputs": [],
   "source": [
    "import numpy as np\n",
    "def create_dataset(dataset, time_step=1):\n",
    "\tdataX, dataY = [], []\n",
    "\tfor i in range(len(dataset)-time_step-1):\n",
    "\t\ta = dataset[i:(i+time_step), 0]   ###i=0, 0,1,2,3-----99   100 \n",
    "\t\tdataX.append(a)\n",
    "\t\tdataY.append(dataset[i + time_step, 0])\n",
    "\treturn np.array(dataX), np.array(dataY)\n"
   ]
  },
  {
   "cell_type": "code",
   "execution_count": 19,
   "id": "2dea88e3",
   "metadata": {},
   "outputs": [],
   "source": [
    "# reshape into X= t,t+1,t+2,t+3 and y = t+4"
   ]
  },
  {
   "cell_type": "code",
   "execution_count": 20,
   "id": "28257366",
   "metadata": {},
   "outputs": [],
   "source": [
    "time_step = 100\n",
    "X_train, y_train = create_dataset(train_data, time_step)\n",
    "X_test, y_test = create_dataset(test_data, time_step)"
   ]
  },
  {
   "cell_type": "code",
   "execution_count": 21,
   "id": "ba9c894b",
   "metadata": {},
   "outputs": [
    {
     "name": "stdout",
     "output_type": "stream",
     "text": [
      "(1820, 100)\n",
      "(1820,)\n"
     ]
    },
    {
     "data": {
      "text/plain": [
       "(None, None)"
      ]
     },
     "execution_count": 21,
     "metadata": {},
     "output_type": "execute_result"
    }
   ],
   "source": [
    "print(X_train.shape),print(y_train.shape)"
   ]
  },
  {
   "cell_type": "code",
   "execution_count": 22,
   "id": "092ff95b",
   "metadata": {},
   "outputs": [
    {
     "name": "stdout",
     "output_type": "stream",
     "text": [
      "(934, 100)\n",
      "(934,)\n"
     ]
    },
    {
     "data": {
      "text/plain": [
       "(None, None)"
      ]
     },
     "execution_count": 22,
     "metadata": {},
     "output_type": "execute_result"
    }
   ],
   "source": [
    "print(X_test.shape),print(y_test.shape)"
   ]
  },
  {
   "cell_type": "code",
   "execution_count": 23,
   "id": "0f76bf22",
   "metadata": {},
   "outputs": [],
   "source": [
    "# Reshape input to be [samples,time_step,features] which are required for LSTM"
   ]
  },
  {
   "cell_type": "code",
   "execution_count": 24,
   "id": "0d3bb8cf",
   "metadata": {},
   "outputs": [],
   "source": [
    "X_train = X_train.reshape(X_train.shape[0],X_train.shape[1],1)\n",
    "X_test = X_test.reshape(X_test.shape[0],X_test.shape[1],1)"
   ]
  },
  {
   "cell_type": "code",
   "execution_count": 25,
   "id": "7389bd84",
   "metadata": {},
   "outputs": [],
   "source": [
    "# create the LSTM model"
   ]
  },
  {
   "cell_type": "code",
   "execution_count": 26,
   "id": "39bb5004",
   "metadata": {},
   "outputs": [],
   "source": [
    "import tensorflow as tf\n",
    "from tensorflow import keras\n",
    "from keras import Sequential\n",
    "from keras.layers import LSTM,Dense,Dropout"
   ]
  },
  {
   "cell_type": "code",
   "execution_count": 27,
   "id": "51d8854e",
   "metadata": {},
   "outputs": [],
   "source": [
    "model = Sequential()"
   ]
  },
  {
   "cell_type": "code",
   "execution_count": 28,
   "id": "5589abc0",
   "metadata": {},
   "outputs": [],
   "source": [
    "model.add(LSTM(50,return_sequences = True,input_shape = (100,1)))\n",
    "model.add(Dropout(0.2))\n",
    "model.add(LSTM(50,return_sequences = True))\n",
    "model.add(Dropout(0.2))\n",
    "model.add(LSTM(50))\n",
    "model.add(Dropout(0.2))\n",
    "\n",
    "\n",
    "model.add(Dense(1))\n"
   ]
  },
  {
   "cell_type": "code",
   "execution_count": 29,
   "id": "01e317ba",
   "metadata": {},
   "outputs": [
    {
     "name": "stdout",
     "output_type": "stream",
     "text": [
      "Model: \"sequential\"\n",
      "_________________________________________________________________\n",
      " Layer (type)                Output Shape              Param #   \n",
      "=================================================================\n",
      " lstm (LSTM)                 (None, 100, 50)           10400     \n",
      "                                                                 \n",
      " dropout (Dropout)           (None, 100, 50)           0         \n",
      "                                                                 \n",
      " lstm_1 (LSTM)               (None, 100, 50)           20200     \n",
      "                                                                 \n",
      " dropout_1 (Dropout)         (None, 100, 50)           0         \n",
      "                                                                 \n",
      " lstm_2 (LSTM)               (None, 50)                20200     \n",
      "                                                                 \n",
      " dropout_2 (Dropout)         (None, 50)                0         \n",
      "                                                                 \n",
      " dense (Dense)               (None, 1)                 51        \n",
      "                                                                 \n",
      "=================================================================\n",
      "Total params: 50851 (198.64 KB)\n",
      "Trainable params: 50851 (198.64 KB)\n",
      "Non-trainable params: 0 (0.00 Byte)\n",
      "_________________________________________________________________\n"
     ]
    }
   ],
   "source": [
    "model.summary()"
   ]
  },
  {
   "cell_type": "code",
   "execution_count": 30,
   "id": "dd98edd5",
   "metadata": {},
   "outputs": [],
   "source": [
    "# compile the model"
   ]
  },
  {
   "cell_type": "code",
   "execution_count": 31,
   "id": "338bdbee",
   "metadata": {},
   "outputs": [],
   "source": [
    "model.compile(loss ='mean_squared_error',optimizer = 'adam')"
   ]
  },
  {
   "cell_type": "code",
   "execution_count": 32,
   "id": "9fa5817b",
   "metadata": {},
   "outputs": [
    {
     "name": "stdout",
     "output_type": "stream",
     "text": [
      "Epoch 1/10\n",
      "57/57 [==============================] - 5s 59ms/step - loss: 1.1166e-04 - val_loss: 0.0109\n",
      "Epoch 2/10\n",
      "57/57 [==============================] - 3s 53ms/step - loss: 1.4529e-05 - val_loss: 0.0090\n",
      "Epoch 3/10\n",
      "57/57 [==============================] - 3s 54ms/step - loss: 1.4886e-05 - val_loss: 0.0066\n",
      "Epoch 4/10\n",
      "57/57 [==============================] - 3s 54ms/step - loss: 1.2255e-05 - val_loss: 0.0064\n",
      "Epoch 5/10\n",
      "57/57 [==============================] - 3s 54ms/step - loss: 1.0332e-05 - val_loss: 0.0058\n",
      "Epoch 6/10\n",
      "57/57 [==============================] - 3s 54ms/step - loss: 1.1232e-05 - val_loss: 0.0056\n",
      "Epoch 7/10\n",
      "57/57 [==============================] - 3s 54ms/step - loss: 1.1962e-05 - val_loss: 0.0054\n",
      "Epoch 8/10\n",
      "57/57 [==============================] - 3s 54ms/step - loss: 1.1269e-05 - val_loss: 0.0062\n",
      "Epoch 9/10\n",
      "57/57 [==============================] - 3s 54ms/step - loss: 9.3625e-06 - val_loss: 0.0038\n",
      "Epoch 10/10\n",
      "57/57 [==============================] - 3s 54ms/step - loss: 1.0881e-05 - val_loss: 0.0067\n"
     ]
    },
    {
     "data": {
      "text/plain": [
       "<keras.src.callbacks.History at 0x17c3c7d10>"
      ]
     },
     "execution_count": 32,
     "metadata": {},
     "output_type": "execute_result"
    }
   ],
   "source": [
    "model.fit(X_train,y_train,epochs = 10,validation_data =(X_test,y_test))"
   ]
  },
  {
   "cell_type": "code",
   "execution_count": 34,
   "id": "75dda6f6",
   "metadata": {},
   "outputs": [],
   "source": [
    "# Predict the test data"
   ]
  },
  {
   "cell_type": "code",
   "execution_count": 35,
   "id": "8b5f6117",
   "metadata": {},
   "outputs": [
    {
     "name": "stdout",
     "output_type": "stream",
     "text": [
      "57/57 [==============================] - 1s 11ms/step\n",
      "30/30 [==============================] - 0s 11ms/step\n"
     ]
    }
   ],
   "source": [
    "### Lets Do the prediction and check performance metrics\n",
    "train_predict=model.predict(X_train)\n",
    "test_predict=model.predict(X_test)"
   ]
  },
  {
   "cell_type": "code",
   "execution_count": 36,
   "id": "7d112f95",
   "metadata": {},
   "outputs": [],
   "source": [
    "##Transformback to original form\n",
    "train_predict=scaler.inverse_transform(train_predict)\n",
    "test_predict=scaler.inverse_transform(test_predict)"
   ]
  },
  {
   "cell_type": "code",
   "execution_count": 37,
   "id": "8f3d9111",
   "metadata": {},
   "outputs": [
    {
     "data": {
      "text/plain": [
       "40.92249734066319"
      ]
     },
     "execution_count": 37,
     "metadata": {},
     "output_type": "execute_result"
    }
   ],
   "source": [
    "### Calculate RMSE performance metrics\n",
    "import math\n",
    "from sklearn.metrics import mean_squared_error\n",
    "math.sqrt(mean_squared_error(y_train,train_predict))"
   ]
  },
  {
   "cell_type": "code",
   "execution_count": 38,
   "id": "336f536c",
   "metadata": {},
   "outputs": [
    {
     "data": {
      "text/plain": [
       "413.32490925870025"
      ]
     },
     "execution_count": 38,
     "metadata": {},
     "output_type": "execute_result"
    }
   ],
   "source": [
    "### Test Data RMSE\n",
    "math.sqrt(mean_squared_error(y_test,test_predict))\n"
   ]
  },
  {
   "cell_type": "code",
   "execution_count": 39,
   "id": "0aee158b",
   "metadata": {
    "scrolled": true
   },
   "outputs": [
    {
     "data": {
      "image/png": "[encoded data removed]",
      "text/plain": [
       "<Figure size 640x480 with 1 Axes>"
      ]
     },
     "metadata": {},
     "output_type": "display_data"
    }
   ],
   "source": [
    "### Plotting \n",
    "# shift train predictions for plotting\n",
    "look_back=100\n",
    "trainPredictPlot = np.empty_like(df1)\n",
    "trainPredictPlot[:, :] = np.nan\n",
    "trainPredictPlot[look_back:len(train_predict)+look_back, :] = train_predict\n",
    "# shift test predictions for plotting\n",
    "testPredictPlot = np.empty_like(df1)\n",
    "testPredictPlot[:, :] = np.nan\n",
    "testPredictPlot[len(train_predict)+(look_back*2)+1:len(df1)-1, :] = test_predict\n",
    "# plot baseline and predictions\n",
    "plt.plot(scaler.inverse_transform(df1))\n",
    "plt.plot(trainPredictPlot)\n",
    "plt.plot(testPredictPlot)\n",
    "plt.show()"
   ]
  },
  {
   "cell_type": "code",
   "execution_count": 42,
   "id": "ef3d082f",
   "metadata": {},
   "outputs": [
    {
     "data": {
      "text/plain": [
       "1035"
      ]
     },
     "execution_count": 42,
     "metadata": {},
     "output_type": "execute_result"
    }
   ],
   "source": [
    "len(test_data)"
   ]
  },
  {
   "cell_type": "code",
   "execution_count": 48,
   "id": "78b862ed",
   "metadata": {
    "scrolled": true
   },
   "outputs": [
    {
     "data": {
      "text/plain": [
       "(1, 100)"
      ]
     },
     "execution_count": 48,
     "metadata": {},
     "output_type": "execute_result"
    }
   ],
   "source": [
    "x_input=test_data[935:].reshape(1,-1)\n",
    "x_input.shape"
   ]
  },
  {
   "cell_type": "code",
   "execution_count": 49,
   "id": "e6b46680",
   "metadata": {},
   "outputs": [],
   "source": [
    "temp_input=list(x_input)\n",
    "temp_input=temp_input[0].tolist()"
   ]
  },
  {
   "cell_type": "code",
   "execution_count": 50,
   "id": "51829f56",
   "metadata": {},
   "outputs": [
    {
     "data": {
      "text/plain": [
       "[0.9826206909239019,\n",
       " 0.952793941393932,\n",
       " 0.986916610103799,\n",
       " 1.0,\n",
       " 0.9936253778004788,\n",
       " 0.9454085256622052,\n",
       " 0.8317423857515867,\n",
       " 0.867976296302267,\n",
       " 0.864357025157417,\n",
       " 0.8398288285680211,\n",
       " 0.8235011102514468,\n",
       " 0.8571998784228281,\n",
       " 0.8851436559242843,\n",
       " 0.8911513957210945,\n",
       " 0.9243122295279268,\n",
       " 0.9404605363964474,\n",
       " 0.9014632144693302,\n",
       " 0.9071448699059096,\n",
       " 0.879364185124612,\n",
       " 0.9242551119423895,\n",
       " 0.9305889369145924,\n",
       " 0.8900264680979011,\n",
       " 0.8815487638290949,\n",
       " 0.824789030329874,\n",
       " 0.8199306966556807,\n",
       " 0.8547707119933123,\n",
       " 0.868799618064653,\n",
       " 0.8156836847497492,\n",
       " 0.8264683113104361,\n",
       " 0.7852047656841558,\n",
       " 0.7787650161173748,\n",
       " 0.7930140314143249,\n",
       " 0.7530140268168112,\n",
       " 0.7576197116290442,\n",
       " 0.7310209717915526,\n",
       " 0.7624780950281189,\n",
       " 0.8198165617495309,\n",
       " 0.8672019323538899,\n",
       " 0.8891623482930348,\n",
       " 0.8847034366579036,\n",
       " 0.8828448428638888,\n",
       " 0.8699245456878464,\n",
       " 0.8588710004470235,\n",
       " 0.9754391651396523,\n",
       " 0.9345261334633068,\n",
       " 0.8844181495249913,\n",
       " 0.86532701983198,\n",
       " 0.8345628144486362,\n",
       " 0.859963289799265,\n",
       " 0.8650825307415481,\n",
       " 0.899172561995625,\n",
       " 0.8383126394924559,\n",
       " 0.8530262531054473,\n",
       " 0.837456679459118,\n",
       " 0.8090401438700919,\n",
       " 0.8095455410437756,\n",
       " 0.766855510843214,\n",
       " 0.7555247396064063,\n",
       " 0.7460688800763466,\n",
       " 0.761565067949287,\n",
       " 0.6732748751649923,\n",
       " 0.687336419507285,\n",
       " 0.7610026045452712,\n",
       " 0.7565436920949783,\n",
       " 0.73568367473956,\n",
       " 0.723847556869112,\n",
       " 0.7500794632136119,\n",
       " 0.7370531909029481,\n",
       " 0.749003443679546,\n",
       " 0.7571550635881213,\n",
       " 0.7347788571571379,\n",
       " 0.6984634002463782,\n",
       " 0.711310361373913,\n",
       " 0.7493539576294808,\n",
       " 0.7501365310742678,\n",
       " 0.7117912792330112,\n",
       " 0.6960015947307486,\n",
       " 0.6671041420977862,\n",
       " 0.6202404376701245,\n",
       " 0.6501813718311257,\n",
       " 0.6575993255688796,\n",
       " 0.7069655341048884,\n",
       " 0.7020256540706158,\n",
       " 0.7146769844719646,\n",
       " 0.6815813774821546,\n",
       " 0.6807662154912971,\n",
       " 0.653287136570807,\n",
       " 0.6694436529357375,\n",
       " 0.6976237597560973,\n",
       " 0.6807743752628256,\n",
       " 0.6457631579735502,\n",
       " 0.6221397789665764,\n",
       " 0.6510943491850761,\n",
       " 0.6823476313838847,\n",
       " 0.7079192597764379,\n",
       " 0.735463615238832,\n",
       " 0.7483186855978519,\n",
       " 0.8076787874782322,\n",
       " 0.8118605725671414,\n",
       " 0.8239331200214176]"
      ]
     },
     "execution_count": 50,
     "metadata": {},
     "output_type": "execute_result"
    }
   ],
   "source": [
    "temp_input"
   ]
  },
  {
   "cell_type": "code",
   "execution_count": 51,
   "id": "15befa1c",
   "metadata": {
    "scrolled": false
   },
   "outputs": [
    {
     "name": "stdout",
     "output_type": "stream",
     "text": [
      "[0.57483315]\n",
      "101\n",
      "1 day input [0.95279394 0.98691661 1.         0.99362538 0.94540853 0.83174239\n",
      " 0.8679763  0.86435703 0.83982883 0.82350111 0.85719988 0.88514366\n",
      " 0.8911514  0.92431223 0.94046054 0.90146321 0.90714487 0.87936419\n",
      " 0.92425511 0.93058894 0.89002647 0.88154876 0.82478903 0.8199307\n",
      " 0.85477071 0.86879962 0.81568368 0.82646831 0.78520477 0.77876502\n",
      " 0.79301403 0.75301403 0.75761971 0.73102097 0.7624781  0.81981656\n",
      " 0.86720193 0.88916235 0.88470344 0.88284484 0.86992455 0.858871\n",
      " 0.97543917 0.93452613 0.88441815 0.86532702 0.83456281 0.85996329\n",
      " 0.86508253 0.89917256 0.83831264 0.85302625 0.83745668 0.80904014\n",
      " 0.80954554 0.76685551 0.75552474 0.74606888 0.76156507 0.67327488\n",
      " 0.68733642 0.7610026  0.75654369 0.73568367 0.72384756 0.75007946\n",
      " 0.73705319 0.74900344 0.75715506 0.73477886 0.6984634  0.71131036\n",
      " 0.74935396 0.75013653 0.71179128 0.69600159 0.66710414 0.62024044\n",
      " 0.65018137 0.65759933 0.70696553 0.70202565 0.71467698 0.68158138\n",
      " 0.68076622 0.65328714 0.66944365 0.69762376 0.68077438 0.64576316\n",
      " 0.62213978 0.65109435 0.68234763 0.70791926 0.73546362 0.74831869\n",
      " 0.80767879 0.81186057 0.82393312 0.57483315]\n",
      "1 day output [[0.5803474]]\n",
      "2 day input [0.98691661 1.         0.99362538 0.94540853 0.83174239 0.8679763\n",
      " 0.86435703 0.83982883 0.82350111 0.85719988 0.88514366 0.8911514\n",
      " 0.92431223 0.94046054 0.90146321 0.90714487 0.87936419 0.92425511\n",
      " 0.93058894 0.89002647 0.88154876 0.82478903 0.8199307  0.85477071\n",
      " 0.86879962 0.81568368 0.82646831 0.78520477 0.77876502 0.79301403\n",
      " 0.75301403 0.75761971 0.73102097 0.7624781  0.81981656 0.86720193\n",
      " 0.88916235 0.88470344 0.88284484 0.86992455 0.858871   0.97543917\n",
      " 0.93452613 0.88441815 0.86532702 0.83456281 0.85996329 0.86508253\n",
      " 0.89917256 0.83831264 0.85302625 0.83745668 0.80904014 0.80954554\n",
      " 0.76685551 0.75552474 0.74606888 0.76156507 0.67327488 0.68733642\n",
      " 0.7610026  0.75654369 0.73568367 0.72384756 0.75007946 0.73705319\n",
      " 0.74900344 0.75715506 0.73477886 0.6984634  0.71131036 0.74935396\n",
      " 0.75013653 0.71179128 0.69600159 0.66710414 0.62024044 0.65018137\n",
      " 0.65759933 0.70696553 0.70202565 0.71467698 0.68158138 0.68076622\n",
      " 0.65328714 0.66944365 0.69762376 0.68077438 0.64576316 0.62213978\n",
      " 0.65109435 0.68234763 0.70791926 0.73546362 0.74831869 0.80767879\n",
      " 0.81186057 0.82393312 0.57483315 0.58034742]\n",
      "2 day output [[0.58238316]]\n",
      "3 day input [1.         0.99362538 0.94540853 0.83174239 0.8679763  0.86435703\n",
      " 0.83982883 0.82350111 0.85719988 0.88514366 0.8911514  0.92431223\n",
      " 0.94046054 0.90146321 0.90714487 0.87936419 0.92425511 0.93058894\n",
      " 0.89002647 0.88154876 0.82478903 0.8199307  0.85477071 0.86879962\n",
      " 0.81568368 0.82646831 0.78520477 0.77876502 0.79301403 0.75301403\n",
      " 0.75761971 0.73102097 0.7624781  0.81981656 0.86720193 0.88916235\n",
      " 0.88470344 0.88284484 0.86992455 0.858871   0.97543917 0.93452613\n",
      " 0.88441815 0.86532702 0.83456281 0.85996329 0.86508253 0.89917256\n",
      " 0.83831264 0.85302625 0.83745668 0.80904014 0.80954554 0.76685551\n",
      " 0.75552474 0.74606888 0.76156507 0.67327488 0.68733642 0.7610026\n",
      " 0.75654369 0.73568367 0.72384756 0.75007946 0.73705319 0.74900344\n",
      " 0.75715506 0.73477886 0.6984634  0.71131036 0.74935396 0.75013653\n",
      " 0.71179128 0.69600159 0.66710414 0.62024044 0.65018137 0.65759933\n",
      " 0.70696553 0.70202565 0.71467698 0.68158138 0.68076622 0.65328714\n",
      " 0.66944365 0.69762376 0.68077438 0.64576316 0.62213978 0.65109435\n",
      " 0.68234763 0.70791926 0.73546362 0.74831869 0.80767879 0.81186057\n",
      " 0.82393312 0.57483315 0.58034742 0.58238316]\n",
      "3 day output [[0.5808753]]\n",
      "4 day input [0.99362538 0.94540853 0.83174239 0.8679763  0.86435703 0.83982883\n",
      " 0.82350111 0.85719988 0.88514366 0.8911514  0.92431223 0.94046054\n",
      " 0.90146321 0.90714487 0.87936419 0.92425511 0.93058894 0.89002647\n",
      " 0.88154876 0.82478903 0.8199307  0.85477071 0.86879962 0.81568368\n",
      " 0.82646831 0.78520477 0.77876502 0.79301403 0.75301403 0.75761971\n",
      " 0.73102097 0.7624781  0.81981656 0.86720193 0.88916235 0.88470344\n",
      " 0.88284484 0.86992455 0.858871   0.97543917 0.93452613 0.88441815\n",
      " 0.86532702 0.83456281 0.85996329 0.86508253 0.89917256 0.83831264\n",
      " 0.85302625 0.83745668 0.80904014 0.80954554 0.76685551 0.75552474\n",
      " 0.74606888 0.76156507 0.67327488 0.68733642 0.7610026  0.75654369\n",
      " 0.73568367 0.72384756 0.75007946 0.73705319 0.74900344 0.75715506\n",
      " 0.73477886 0.6984634  0.71131036 0.74935396 0.75013653 0.71179128\n",
      " 0.69600159 0.66710414 0.62024044 0.65018137 0.65759933 0.70696553\n",
      " 0.70202565 0.71467698 0.68158138 0.68076622 0.65328714 0.66944365\n",
      " 0.69762376 0.68077438 0.64576316 0.62213978 0.65109435 0.68234763\n",
      " 0.70791926 0.73546362 0.74831869 0.80767879 0.81186057 0.82393312\n",
      " 0.57483315 0.58034742 0.58238316 0.58087528]\n",
      "4 day output [[0.5763481]]\n",
      "5 day input [0.94540853 0.83174239 0.8679763  0.86435703 0.83982883 0.82350111\n",
      " 0.85719988 0.88514366 0.8911514  0.92431223 0.94046054 0.90146321\n",
      " 0.90714487 0.87936419 0.92425511 0.93058894 0.89002647 0.88154876\n",
      " 0.82478903 0.8199307  0.85477071 0.86879962 0.81568368 0.82646831\n",
      " 0.78520477 0.77876502 0.79301403 0.75301403 0.75761971 0.73102097\n",
      " 0.7624781  0.81981656 0.86720193 0.88916235 0.88470344 0.88284484\n",
      " 0.86992455 0.858871   0.97543917 0.93452613 0.88441815 0.86532702\n",
      " 0.83456281 0.85996329 0.86508253 0.89917256 0.83831264 0.85302625\n",
      " 0.83745668 0.80904014 0.80954554 0.76685551 0.75552474 0.74606888\n",
      " 0.76156507 0.67327488 0.68733642 0.7610026  0.75654369 0.73568367\n",
      " 0.72384756 0.75007946 0.73705319 0.74900344 0.75715506 0.73477886\n",
      " 0.6984634  0.71131036 0.74935396 0.75013653 0.71179128 0.69600159\n",
      " 0.66710414 0.62024044 0.65018137 0.65759933 0.70696553 0.70202565\n",
      " 0.71467698 0.68158138 0.68076622 0.65328714 0.66944365 0.69762376\n",
      " 0.68077438 0.64576316 0.62213978 0.65109435 0.68234763 0.70791926\n",
      " 0.73546362 0.74831869 0.80767879 0.81186057 0.82393312 0.57483315\n",
      " 0.58034742 0.58238316 0.58087528 0.57634813]\n",
      "5 day output [[0.56952405]]\n",
      "6 day input [0.83174239 0.8679763  0.86435703 0.83982883 0.82350111 0.85719988\n",
      " 0.88514366 0.8911514  0.92431223 0.94046054 0.90146321 0.90714487\n",
      " 0.87936419 0.92425511 0.93058894 0.89002647 0.88154876 0.82478903\n",
      " 0.8199307  0.85477071 0.86879962 0.81568368 0.82646831 0.78520477\n",
      " 0.77876502 0.79301403 0.75301403 0.75761971 0.73102097 0.7624781\n",
      " 0.81981656 0.86720193 0.88916235 0.88470344 0.88284484 0.86992455\n",
      " 0.858871   0.97543917 0.93452613 0.88441815 0.86532702 0.83456281\n",
      " 0.85996329 0.86508253 0.89917256 0.83831264 0.85302625 0.83745668\n",
      " 0.80904014 0.80954554 0.76685551 0.75552474 0.74606888 0.76156507\n",
      " 0.67327488 0.68733642 0.7610026  0.75654369 0.73568367 0.72384756\n",
      " 0.75007946 0.73705319 0.74900344 0.75715506 0.73477886 0.6984634\n",
      " 0.71131036 0.74935396 0.75013653 0.71179128 0.69600159 0.66710414\n",
      " 0.62024044 0.65018137 0.65759933 0.70696553 0.70202565 0.71467698\n",
      " 0.68158138 0.68076622 0.65328714 0.66944365 0.69762376 0.68077438\n",
      " 0.64576316 0.62213978 0.65109435 0.68234763 0.70791926 0.73546362\n",
      " 0.74831869 0.80767879 0.81186057 0.82393312 0.57483315 0.58034742\n",
      " 0.58238316 0.58087528 0.57634813 0.56952405]\n",
      "6 day output [[0.5611143]]\n",
      "7 day input [0.8679763  0.86435703 0.83982883 0.82350111 0.85719988 0.88514366\n",
      " 0.8911514  0.92431223 0.94046054 0.90146321 0.90714487 0.87936419\n",
      " 0.92425511 0.93058894 0.89002647 0.88154876 0.82478903 0.8199307\n",
      " 0.85477071 0.86879962 0.81568368 0.82646831 0.78520477 0.77876502\n",
      " 0.79301403 0.75301403 0.75761971 0.73102097 0.7624781  0.81981656\n",
      " 0.86720193 0.88916235 0.88470344 0.88284484 0.86992455 0.858871\n",
      " 0.97543917 0.93452613 0.88441815 0.86532702 0.83456281 0.85996329\n",
      " 0.86508253 0.89917256 0.83831264 0.85302625 0.83745668 0.80904014\n",
      " 0.80954554 0.76685551 0.75552474 0.74606888 0.76156507 0.67327488\n",
      " 0.68733642 0.7610026  0.75654369 0.73568367 0.72384756 0.75007946\n",
      " 0.73705319 0.74900344 0.75715506 0.73477886 0.6984634  0.71131036\n",
      " 0.74935396 0.75013653 0.71179128 0.69600159 0.66710414 0.62024044\n",
      " 0.65018137 0.65759933 0.70696553 0.70202565 0.71467698 0.68158138\n",
      " 0.68076622 0.65328714 0.66944365 0.69762376 0.68077438 0.64576316\n",
      " 0.62213978 0.65109435 0.68234763 0.70791926 0.73546362 0.74831869\n",
      " 0.80767879 0.81186057 0.82393312 0.57483315 0.58034742 0.58238316\n",
      " 0.58087528 0.57634813 0.56952405 0.56111431]\n",
      "7 day output [[0.5517228]]\n",
      "8 day input [0.86435703 0.83982883 0.82350111 0.85719988 0.88514366 0.8911514\n",
      " 0.92431223 0.94046054 0.90146321 0.90714487 0.87936419 0.92425511\n",
      " 0.93058894 0.89002647 0.88154876 0.82478903 0.8199307  0.85477071\n",
      " 0.86879962 0.81568368 0.82646831 0.78520477 0.77876502 0.79301403\n",
      " 0.75301403 0.75761971 0.73102097 0.7624781  0.81981656 0.86720193\n",
      " 0.88916235 0.88470344 0.88284484 0.86992455 0.858871   0.97543917\n",
      " 0.93452613 0.88441815 0.86532702 0.83456281 0.85996329 0.86508253\n",
      " 0.89917256 0.83831264 0.85302625 0.83745668 0.80904014 0.80954554\n",
      " 0.76685551 0.75552474 0.74606888 0.76156507 0.67327488 0.68733642\n",
      " 0.7610026  0.75654369 0.73568367 0.72384756 0.75007946 0.73705319\n",
      " 0.74900344 0.75715506 0.73477886 0.6984634  0.71131036 0.74935396\n",
      " 0.75013653 0.71179128 0.69600159 0.66710414 0.62024044 0.65018137\n",
      " 0.65759933 0.70696553 0.70202565 0.71467698 0.68158138 0.68076622\n",
      " 0.65328714 0.66944365 0.69762376 0.68077438 0.64576316 0.62213978\n",
      " 0.65109435 0.68234763 0.70791926 0.73546362 0.74831869 0.80767879\n",
      " 0.81186057 0.82393312 0.57483315 0.58034742 0.58238316 0.58087528\n",
      " 0.57634813 0.56952405 0.56111431 0.55172282]\n",
      "8 day output [[0.54181784]]\n",
      "9 day input [0.83982883 0.82350111 0.85719988 0.88514366 0.8911514  0.92431223\n",
      " 0.94046054 0.90146321 0.90714487 0.87936419 0.92425511 0.93058894\n",
      " 0.89002647 0.88154876 0.82478903 0.8199307  0.85477071 0.86879962\n",
      " 0.81568368 0.82646831 0.78520477 0.77876502 0.79301403 0.75301403\n",
      " 0.75761971 0.73102097 0.7624781  0.81981656 0.86720193 0.88916235\n",
      " 0.88470344 0.88284484 0.86992455 0.858871   0.97543917 0.93452613\n",
      " 0.88441815 0.86532702 0.83456281 0.85996329 0.86508253 0.89917256\n",
      " 0.83831264 0.85302625 0.83745668 0.80904014 0.80954554 0.76685551\n",
      " 0.75552474 0.74606888 0.76156507 0.67327488 0.68733642 0.7610026\n",
      " 0.75654369 0.73568367 0.72384756 0.75007946 0.73705319 0.74900344\n",
      " 0.75715506 0.73477886 0.6984634  0.71131036 0.74935396 0.75013653\n",
      " 0.71179128 0.69600159 0.66710414 0.62024044 0.65018137 0.65759933\n",
      " 0.70696553 0.70202565 0.71467698 0.68158138 0.68076622 0.65328714\n",
      " 0.66944365 0.69762376 0.68077438 0.64576316 0.62213978 0.65109435\n",
      " 0.68234763 0.70791926 0.73546362 0.74831869 0.80767879 0.81186057\n",
      " 0.82393312 0.57483315 0.58034742 0.58238316 0.58087528 0.57634813\n",
      " 0.56952405 0.56111431 0.55172282 0.54181784]\n",
      "9 day output [[0.5317365]]\n",
      "10 day input [0.82350111 0.85719988 0.88514366 0.8911514  0.92431223 0.94046054\n",
      " 0.90146321 0.90714487 0.87936419 0.92425511 0.93058894 0.89002647\n",
      " 0.88154876 0.82478903 0.8199307  0.85477071 0.86879962 0.81568368\n",
      " 0.82646831 0.78520477 0.77876502 0.79301403 0.75301403 0.75761971\n",
      " 0.73102097 0.7624781  0.81981656 0.86720193 0.88916235 0.88470344\n",
      " 0.88284484 0.86992455 0.858871   0.97543917 0.93452613 0.88441815\n",
      " 0.86532702 0.83456281 0.85996329 0.86508253 0.89917256 0.83831264\n",
      " 0.85302625 0.83745668 0.80904014 0.80954554 0.76685551 0.75552474\n",
      " 0.74606888 0.76156507 0.67327488 0.68733642 0.7610026  0.75654369\n",
      " 0.73568367 0.72384756 0.75007946 0.73705319 0.74900344 0.75715506\n",
      " 0.73477886 0.6984634  0.71131036 0.74935396 0.75013653 0.71179128\n",
      " 0.69600159 0.66710414 0.62024044 0.65018137 0.65759933 0.70696553\n",
      " 0.70202565 0.71467698 0.68158138 0.68076622 0.65328714 0.66944365\n",
      " 0.69762376 0.68077438 0.64576316 0.62213978 0.65109435 0.68234763\n",
      " 0.70791926 0.73546362 0.74831869 0.80767879 0.81186057 0.82393312\n",
      " 0.57483315 0.58034742 0.58238316 0.58087528 0.57634813 0.56952405\n",
      " 0.56111431 0.55172282 0.54181784 0.53173649]\n"
     ]
    },
    {
     "name": "stdout",
     "output_type": "stream",
     "text": [
      "10 day output [[0.52170664]]\n",
      "11 day input [0.85719988 0.88514366 0.8911514  0.92431223 0.94046054 0.90146321\n",
      " 0.90714487 0.87936419 0.92425511 0.93058894 0.89002647 0.88154876\n",
      " 0.82478903 0.8199307  0.85477071 0.86879962 0.81568368 0.82646831\n",
      " 0.78520477 0.77876502 0.79301403 0.75301403 0.75761971 0.73102097\n",
      " 0.7624781  0.81981656 0.86720193 0.88916235 0.88470344 0.88284484\n",
      " 0.86992455 0.858871   0.97543917 0.93452613 0.88441815 0.86532702\n",
      " 0.83456281 0.85996329 0.86508253 0.89917256 0.83831264 0.85302625\n",
      " 0.83745668 0.80904014 0.80954554 0.76685551 0.75552474 0.74606888\n",
      " 0.76156507 0.67327488 0.68733642 0.7610026  0.75654369 0.73568367\n",
      " 0.72384756 0.75007946 0.73705319 0.74900344 0.75715506 0.73477886\n",
      " 0.6984634  0.71131036 0.74935396 0.75013653 0.71179128 0.69600159\n",
      " 0.66710414 0.62024044 0.65018137 0.65759933 0.70696553 0.70202565\n",
      " 0.71467698 0.68158138 0.68076622 0.65328714 0.66944365 0.69762376\n",
      " 0.68077438 0.64576316 0.62213978 0.65109435 0.68234763 0.70791926\n",
      " 0.73546362 0.74831869 0.80767879 0.81186057 0.82393312 0.57483315\n",
      " 0.58034742 0.58238316 0.58087528 0.57634813 0.56952405 0.56111431\n",
      " 0.55172282 0.54181784 0.53173649 0.52170664]\n",
      "11 day output [[0.5118712]]\n",
      "12 day input [0.88514366 0.8911514  0.92431223 0.94046054 0.90146321 0.90714487\n",
      " 0.87936419 0.92425511 0.93058894 0.89002647 0.88154876 0.82478903\n",
      " 0.8199307  0.85477071 0.86879962 0.81568368 0.82646831 0.78520477\n",
      " 0.77876502 0.79301403 0.75301403 0.75761971 0.73102097 0.7624781\n",
      " 0.81981656 0.86720193 0.88916235 0.88470344 0.88284484 0.86992455\n",
      " 0.858871   0.97543917 0.93452613 0.88441815 0.86532702 0.83456281\n",
      " 0.85996329 0.86508253 0.89917256 0.83831264 0.85302625 0.83745668\n",
      " 0.80904014 0.80954554 0.76685551 0.75552474 0.74606888 0.76156507\n",
      " 0.67327488 0.68733642 0.7610026  0.75654369 0.73568367 0.72384756\n",
      " 0.75007946 0.73705319 0.74900344 0.75715506 0.73477886 0.6984634\n",
      " 0.71131036 0.74935396 0.75013653 0.71179128 0.69600159 0.66710414\n",
      " 0.62024044 0.65018137 0.65759933 0.70696553 0.70202565 0.71467698\n",
      " 0.68158138 0.68076622 0.65328714 0.66944365 0.69762376 0.68077438\n",
      " 0.64576316 0.62213978 0.65109435 0.68234763 0.70791926 0.73546362\n",
      " 0.74831869 0.80767879 0.81186057 0.82393312 0.57483315 0.58034742\n",
      " 0.58238316 0.58087528 0.57634813 0.56952405 0.56111431 0.55172282\n",
      " 0.54181784 0.53173649 0.52170664 0.51187122]\n",
      "12 day output [[0.5023123]]\n",
      "13 day input [0.8911514  0.92431223 0.94046054 0.90146321 0.90714487 0.87936419\n",
      " 0.92425511 0.93058894 0.89002647 0.88154876 0.82478903 0.8199307\n",
      " 0.85477071 0.86879962 0.81568368 0.82646831 0.78520477 0.77876502\n",
      " 0.79301403 0.75301403 0.75761971 0.73102097 0.7624781  0.81981656\n",
      " 0.86720193 0.88916235 0.88470344 0.88284484 0.86992455 0.858871\n",
      " 0.97543917 0.93452613 0.88441815 0.86532702 0.83456281 0.85996329\n",
      " 0.86508253 0.89917256 0.83831264 0.85302625 0.83745668 0.80904014\n",
      " 0.80954554 0.76685551 0.75552474 0.74606888 0.76156507 0.67327488\n",
      " 0.68733642 0.7610026  0.75654369 0.73568367 0.72384756 0.75007946\n",
      " 0.73705319 0.74900344 0.75715506 0.73477886 0.6984634  0.71131036\n",
      " 0.74935396 0.75013653 0.71179128 0.69600159 0.66710414 0.62024044\n",
      " 0.65018137 0.65759933 0.70696553 0.70202565 0.71467698 0.68158138\n",
      " 0.68076622 0.65328714 0.66944365 0.69762376 0.68077438 0.64576316\n",
      " 0.62213978 0.65109435 0.68234763 0.70791926 0.73546362 0.74831869\n",
      " 0.80767879 0.81186057 0.82393312 0.57483315 0.58034742 0.58238316\n",
      " 0.58087528 0.57634813 0.56952405 0.56111431 0.55172282 0.54181784\n",
      " 0.53173649 0.52170664 0.51187122 0.5023123 ]\n",
      "13 day output [[0.4930708]]\n",
      "14 day input [0.92431223 0.94046054 0.90146321 0.90714487 0.87936419 0.92425511\n",
      " 0.93058894 0.89002647 0.88154876 0.82478903 0.8199307  0.85477071\n",
      " 0.86879962 0.81568368 0.82646831 0.78520477 0.77876502 0.79301403\n",
      " 0.75301403 0.75761971 0.73102097 0.7624781  0.81981656 0.86720193\n",
      " 0.88916235 0.88470344 0.88284484 0.86992455 0.858871   0.97543917\n",
      " 0.93452613 0.88441815 0.86532702 0.83456281 0.85996329 0.86508253\n",
      " 0.89917256 0.83831264 0.85302625 0.83745668 0.80904014 0.80954554\n",
      " 0.76685551 0.75552474 0.74606888 0.76156507 0.67327488 0.68733642\n",
      " 0.7610026  0.75654369 0.73568367 0.72384756 0.75007946 0.73705319\n",
      " 0.74900344 0.75715506 0.73477886 0.6984634  0.71131036 0.74935396\n",
      " 0.75013653 0.71179128 0.69600159 0.66710414 0.62024044 0.65018137\n",
      " 0.65759933 0.70696553 0.70202565 0.71467698 0.68158138 0.68076622\n",
      " 0.65328714 0.66944365 0.69762376 0.68077438 0.64576316 0.62213978\n",
      " 0.65109435 0.68234763 0.70791926 0.73546362 0.74831869 0.80767879\n",
      " 0.81186057 0.82393312 0.57483315 0.58034742 0.58238316 0.58087528\n",
      " 0.57634813 0.56952405 0.56111431 0.55172282 0.54181784 0.53173649\n",
      " 0.52170664 0.51187122 0.5023123  0.49307081]\n",
      "14 day output [[0.4841606]]\n",
      "15 day input [0.94046054 0.90146321 0.90714487 0.87936419 0.92425511 0.93058894\n",
      " 0.89002647 0.88154876 0.82478903 0.8199307  0.85477071 0.86879962\n",
      " 0.81568368 0.82646831 0.78520477 0.77876502 0.79301403 0.75301403\n",
      " 0.75761971 0.73102097 0.7624781  0.81981656 0.86720193 0.88916235\n",
      " 0.88470344 0.88284484 0.86992455 0.858871   0.97543917 0.93452613\n",
      " 0.88441815 0.86532702 0.83456281 0.85996329 0.86508253 0.89917256\n",
      " 0.83831264 0.85302625 0.83745668 0.80904014 0.80954554 0.76685551\n",
      " 0.75552474 0.74606888 0.76156507 0.67327488 0.68733642 0.7610026\n",
      " 0.75654369 0.73568367 0.72384756 0.75007946 0.73705319 0.74900344\n",
      " 0.75715506 0.73477886 0.6984634  0.71131036 0.74935396 0.75013653\n",
      " 0.71179128 0.69600159 0.66710414 0.62024044 0.65018137 0.65759933\n",
      " 0.70696553 0.70202565 0.71467698 0.68158138 0.68076622 0.65328714\n",
      " 0.66944365 0.69762376 0.68077438 0.64576316 0.62213978 0.65109435\n",
      " 0.68234763 0.70791926 0.73546362 0.74831869 0.80767879 0.81186057\n",
      " 0.82393312 0.57483315 0.58034742 0.58238316 0.58087528 0.57634813\n",
      " 0.56952405 0.56111431 0.55172282 0.54181784 0.53173649 0.52170664\n",
      " 0.51187122 0.5023123  0.49307081 0.4841606 ]\n",
      "15 day output [[0.47558013]]\n",
      "16 day input [0.90146321 0.90714487 0.87936419 0.92425511 0.93058894 0.89002647\n",
      " 0.88154876 0.82478903 0.8199307  0.85477071 0.86879962 0.81568368\n",
      " 0.82646831 0.78520477 0.77876502 0.79301403 0.75301403 0.75761971\n",
      " 0.73102097 0.7624781  0.81981656 0.86720193 0.88916235 0.88470344\n",
      " 0.88284484 0.86992455 0.858871   0.97543917 0.93452613 0.88441815\n",
      " 0.86532702 0.83456281 0.85996329 0.86508253 0.89917256 0.83831264\n",
      " 0.85302625 0.83745668 0.80904014 0.80954554 0.76685551 0.75552474\n",
      " 0.74606888 0.76156507 0.67327488 0.68733642 0.7610026  0.75654369\n",
      " 0.73568367 0.72384756 0.75007946 0.73705319 0.74900344 0.75715506\n",
      " 0.73477886 0.6984634  0.71131036 0.74935396 0.75013653 0.71179128\n",
      " 0.69600159 0.66710414 0.62024044 0.65018137 0.65759933 0.70696553\n",
      " 0.70202565 0.71467698 0.68158138 0.68076622 0.65328714 0.66944365\n",
      " 0.69762376 0.68077438 0.64576316 0.62213978 0.65109435 0.68234763\n",
      " 0.70791926 0.73546362 0.74831869 0.80767879 0.81186057 0.82393312\n",
      " 0.57483315 0.58034742 0.58238316 0.58087528 0.57634813 0.56952405\n",
      " 0.56111431 0.55172282 0.54181784 0.53173649 0.52170664 0.51187122\n",
      " 0.5023123  0.49307081 0.4841606  0.47558013]\n",
      "16 day output [[0.46731845]]\n",
      "17 day input [0.90714487 0.87936419 0.92425511 0.93058894 0.89002647 0.88154876\n",
      " 0.82478903 0.8199307  0.85477071 0.86879962 0.81568368 0.82646831\n",
      " 0.78520477 0.77876502 0.79301403 0.75301403 0.75761971 0.73102097\n",
      " 0.7624781  0.81981656 0.86720193 0.88916235 0.88470344 0.88284484\n",
      " 0.86992455 0.858871   0.97543917 0.93452613 0.88441815 0.86532702\n",
      " 0.83456281 0.85996329 0.86508253 0.89917256 0.83831264 0.85302625\n",
      " 0.83745668 0.80904014 0.80954554 0.76685551 0.75552474 0.74606888\n",
      " 0.76156507 0.67327488 0.68733642 0.7610026  0.75654369 0.73568367\n",
      " 0.72384756 0.75007946 0.73705319 0.74900344 0.75715506 0.73477886\n",
      " 0.6984634  0.71131036 0.74935396 0.75013653 0.71179128 0.69600159\n",
      " 0.66710414 0.62024044 0.65018137 0.65759933 0.70696553 0.70202565\n",
      " 0.71467698 0.68158138 0.68076622 0.65328714 0.66944365 0.69762376\n",
      " 0.68077438 0.64576316 0.62213978 0.65109435 0.68234763 0.70791926\n",
      " 0.73546362 0.74831869 0.80767879 0.81186057 0.82393312 0.57483315\n",
      " 0.58034742 0.58238316 0.58087528 0.57634813 0.56952405 0.56111431\n",
      " 0.55172282 0.54181784 0.53173649 0.52170664 0.51187122 0.5023123\n",
      " 0.49307081 0.4841606  0.47558013 0.46731845]\n",
      "17 day output [[0.4593606]]\n",
      "18 day input [0.87936419 0.92425511 0.93058894 0.89002647 0.88154876 0.82478903\n",
      " 0.8199307  0.85477071 0.86879962 0.81568368 0.82646831 0.78520477\n",
      " 0.77876502 0.79301403 0.75301403 0.75761971 0.73102097 0.7624781\n",
      " 0.81981656 0.86720193 0.88916235 0.88470344 0.88284484 0.86992455\n",
      " 0.858871   0.97543917 0.93452613 0.88441815 0.86532702 0.83456281\n",
      " 0.85996329 0.86508253 0.89917256 0.83831264 0.85302625 0.83745668\n",
      " 0.80904014 0.80954554 0.76685551 0.75552474 0.74606888 0.76156507\n",
      " 0.67327488 0.68733642 0.7610026  0.75654369 0.73568367 0.72384756\n",
      " 0.75007946 0.73705319 0.74900344 0.75715506 0.73477886 0.6984634\n",
      " 0.71131036 0.74935396 0.75013653 0.71179128 0.69600159 0.66710414\n",
      " 0.62024044 0.65018137 0.65759933 0.70696553 0.70202565 0.71467698\n",
      " 0.68158138 0.68076622 0.65328714 0.66944365 0.69762376 0.68077438\n",
      " 0.64576316 0.62213978 0.65109435 0.68234763 0.70791926 0.73546362\n",
      " 0.74831869 0.80767879 0.81186057 0.82393312 0.57483315 0.58034742\n",
      " 0.58238316 0.58087528 0.57634813 0.56952405 0.56111431 0.55172282\n",
      " 0.54181784 0.53173649 0.52170664 0.51187122 0.5023123  0.49307081\n",
      " 0.4841606  0.47558013 0.46731845 0.4593606 ]\n",
      "18 day output [[0.45169038]]\n",
      "19 day input [0.92425511 0.93058894 0.89002647 0.88154876 0.82478903 0.8199307\n",
      " 0.85477071 0.86879962 0.81568368 0.82646831 0.78520477 0.77876502\n",
      " 0.79301403 0.75301403 0.75761971 0.73102097 0.7624781  0.81981656\n",
      " 0.86720193 0.88916235 0.88470344 0.88284484 0.86992455 0.858871\n",
      " 0.97543917 0.93452613 0.88441815 0.86532702 0.83456281 0.85996329\n",
      " 0.86508253 0.89917256 0.83831264 0.85302625 0.83745668 0.80904014\n",
      " 0.80954554 0.76685551 0.75552474 0.74606888 0.76156507 0.67327488\n",
      " 0.68733642 0.7610026  0.75654369 0.73568367 0.72384756 0.75007946\n",
      " 0.73705319 0.74900344 0.75715506 0.73477886 0.6984634  0.71131036\n",
      " 0.74935396 0.75013653 0.71179128 0.69600159 0.66710414 0.62024044\n",
      " 0.65018137 0.65759933 0.70696553 0.70202565 0.71467698 0.68158138\n",
      " 0.68076622 0.65328714 0.66944365 0.69762376 0.68077438 0.64576316\n",
      " 0.62213978 0.65109435 0.68234763 0.70791926 0.73546362 0.74831869\n",
      " 0.80767879 0.81186057 0.82393312 0.57483315 0.58034742 0.58238316\n",
      " 0.58087528 0.57634813 0.56952405 0.56111431 0.55172282 0.54181784\n",
      " 0.53173649 0.52170664 0.51187122 0.5023123  0.49307081 0.4841606\n",
      " 0.47558013 0.46731845 0.4593606  0.45169038]\n",
      "19 day output [[0.44429153]]\n",
      "20 day input [0.93058894 0.89002647 0.88154876 0.82478903 0.8199307  0.85477071\n",
      " 0.86879962 0.81568368 0.82646831 0.78520477 0.77876502 0.79301403\n",
      " 0.75301403 0.75761971 0.73102097 0.7624781  0.81981656 0.86720193\n",
      " 0.88916235 0.88470344 0.88284484 0.86992455 0.858871   0.97543917\n",
      " 0.93452613 0.88441815 0.86532702 0.83456281 0.85996329 0.86508253\n",
      " 0.89917256 0.83831264 0.85302625 0.83745668 0.80904014 0.80954554\n",
      " 0.76685551 0.75552474 0.74606888 0.76156507 0.67327488 0.68733642\n",
      " 0.7610026  0.75654369 0.73568367 0.72384756 0.75007946 0.73705319\n",
      " 0.74900344 0.75715506 0.73477886 0.6984634  0.71131036 0.74935396\n",
      " 0.75013653 0.71179128 0.69600159 0.66710414 0.62024044 0.65018137\n",
      " 0.65759933 0.70696553 0.70202565 0.71467698 0.68158138 0.68076622\n",
      " 0.65328714 0.66944365 0.69762376 0.68077438 0.64576316 0.62213978\n",
      " 0.65109435 0.68234763 0.70791926 0.73546362 0.74831869 0.80767879\n",
      " 0.81186057 0.82393312 0.57483315 0.58034742 0.58238316 0.58087528\n",
      " 0.57634813 0.56952405 0.56111431 0.55172282 0.54181784 0.53173649\n",
      " 0.52170664 0.51187122 0.5023123  0.49307081 0.4841606  0.47558013\n",
      " 0.46731845 0.4593606  0.45169038 0.44429153]\n",
      "20 day output [[0.43714857]]\n",
      "21 day input [0.89002647 0.88154876 0.82478903 0.8199307  0.85477071 0.86879962\n",
      " 0.81568368 0.82646831 0.78520477 0.77876502 0.79301403 0.75301403\n",
      " 0.75761971 0.73102097 0.7624781  0.81981656 0.86720193 0.88916235\n",
      " 0.88470344 0.88284484 0.86992455 0.858871   0.97543917 0.93452613\n",
      " 0.88441815 0.86532702 0.83456281 0.85996329 0.86508253 0.89917256\n",
      " 0.83831264 0.85302625 0.83745668 0.80904014 0.80954554 0.76685551\n",
      " 0.75552474 0.74606888 0.76156507 0.67327488 0.68733642 0.7610026\n",
      " 0.75654369 0.73568367 0.72384756 0.75007946 0.73705319 0.74900344\n",
      " 0.75715506 0.73477886 0.6984634  0.71131036 0.74935396 0.75013653\n",
      " 0.71179128 0.69600159 0.66710414 0.62024044 0.65018137 0.65759933\n",
      " 0.70696553 0.70202565 0.71467698 0.68158138 0.68076622 0.65328714\n",
      " 0.66944365 0.69762376 0.68077438 0.64576316 0.62213978 0.65109435\n",
      " 0.68234763 0.70791926 0.73546362 0.74831869 0.80767879 0.81186057\n",
      " 0.82393312 0.57483315 0.58034742 0.58238316 0.58087528 0.57634813\n",
      " 0.56952405 0.56111431 0.55172282 0.54181784 0.53173649 0.52170664\n",
      " 0.51187122 0.5023123  0.49307081 0.4841606  0.47558013 0.46731845\n",
      " 0.4593606  0.45169038 0.44429153 0.43714857]\n"
     ]
    },
    {
     "name": "stdout",
     "output_type": "stream",
     "text": [
      "21 day output [[0.4302472]]\n",
      "22 day input [0.88154876 0.82478903 0.8199307  0.85477071 0.86879962 0.81568368\n",
      " 0.82646831 0.78520477 0.77876502 0.79301403 0.75301403 0.75761971\n",
      " 0.73102097 0.7624781  0.81981656 0.86720193 0.88916235 0.88470344\n",
      " 0.88284484 0.86992455 0.858871   0.97543917 0.93452613 0.88441815\n",
      " 0.86532702 0.83456281 0.85996329 0.86508253 0.89917256 0.83831264\n",
      " 0.85302625 0.83745668 0.80904014 0.80954554 0.76685551 0.75552474\n",
      " 0.74606888 0.76156507 0.67327488 0.68733642 0.7610026  0.75654369\n",
      " 0.73568367 0.72384756 0.75007946 0.73705319 0.74900344 0.75715506\n",
      " 0.73477886 0.6984634  0.71131036 0.74935396 0.75013653 0.71179128\n",
      " 0.69600159 0.66710414 0.62024044 0.65018137 0.65759933 0.70696553\n",
      " 0.70202565 0.71467698 0.68158138 0.68076622 0.65328714 0.66944365\n",
      " 0.69762376 0.68077438 0.64576316 0.62213978 0.65109435 0.68234763\n",
      " 0.70791926 0.73546362 0.74831869 0.80767879 0.81186057 0.82393312\n",
      " 0.57483315 0.58034742 0.58238316 0.58087528 0.57634813 0.56952405\n",
      " 0.56111431 0.55172282 0.54181784 0.53173649 0.52170664 0.51187122\n",
      " 0.5023123  0.49307081 0.4841606  0.47558013 0.46731845 0.4593606\n",
      " 0.45169038 0.44429153 0.43714857 0.43024719]\n",
      "22 day output [[0.42357424]]\n",
      "23 day input [0.82478903 0.8199307  0.85477071 0.86879962 0.81568368 0.82646831\n",
      " 0.78520477 0.77876502 0.79301403 0.75301403 0.75761971 0.73102097\n",
      " 0.7624781  0.81981656 0.86720193 0.88916235 0.88470344 0.88284484\n",
      " 0.86992455 0.858871   0.97543917 0.93452613 0.88441815 0.86532702\n",
      " 0.83456281 0.85996329 0.86508253 0.89917256 0.83831264 0.85302625\n",
      " 0.83745668 0.80904014 0.80954554 0.76685551 0.75552474 0.74606888\n",
      " 0.76156507 0.67327488 0.68733642 0.7610026  0.75654369 0.73568367\n",
      " 0.72384756 0.75007946 0.73705319 0.74900344 0.75715506 0.73477886\n",
      " 0.6984634  0.71131036 0.74935396 0.75013653 0.71179128 0.69600159\n",
      " 0.66710414 0.62024044 0.65018137 0.65759933 0.70696553 0.70202565\n",
      " 0.71467698 0.68158138 0.68076622 0.65328714 0.66944365 0.69762376\n",
      " 0.68077438 0.64576316 0.62213978 0.65109435 0.68234763 0.70791926\n",
      " 0.73546362 0.74831869 0.80767879 0.81186057 0.82393312 0.57483315\n",
      " 0.58034742 0.58238316 0.58087528 0.57634813 0.56952405 0.56111431\n",
      " 0.55172282 0.54181784 0.53173649 0.52170664 0.51187122 0.5023123\n",
      " 0.49307081 0.4841606  0.47558013 0.46731845 0.4593606  0.45169038\n",
      " 0.44429153 0.43714857 0.43024719 0.42357424]\n",
      "23 day output [[0.4171177]]\n",
      "24 day input [0.8199307  0.85477071 0.86879962 0.81568368 0.82646831 0.78520477\n",
      " 0.77876502 0.79301403 0.75301403 0.75761971 0.73102097 0.7624781\n",
      " 0.81981656 0.86720193 0.88916235 0.88470344 0.88284484 0.86992455\n",
      " 0.858871   0.97543917 0.93452613 0.88441815 0.86532702 0.83456281\n",
      " 0.85996329 0.86508253 0.89917256 0.83831264 0.85302625 0.83745668\n",
      " 0.80904014 0.80954554 0.76685551 0.75552474 0.74606888 0.76156507\n",
      " 0.67327488 0.68733642 0.7610026  0.75654369 0.73568367 0.72384756\n",
      " 0.75007946 0.73705319 0.74900344 0.75715506 0.73477886 0.6984634\n",
      " 0.71131036 0.74935396 0.75013653 0.71179128 0.69600159 0.66710414\n",
      " 0.62024044 0.65018137 0.65759933 0.70696553 0.70202565 0.71467698\n",
      " 0.68158138 0.68076622 0.65328714 0.66944365 0.69762376 0.68077438\n",
      " 0.64576316 0.62213978 0.65109435 0.68234763 0.70791926 0.73546362\n",
      " 0.74831869 0.80767879 0.81186057 0.82393312 0.57483315 0.58034742\n",
      " 0.58238316 0.58087528 0.57634813 0.56952405 0.56111431 0.55172282\n",
      " 0.54181784 0.53173649 0.52170664 0.51187122 0.5023123  0.49307081\n",
      " 0.4841606  0.47558013 0.46731845 0.4593606  0.45169038 0.44429153\n",
      " 0.43714857 0.43024719 0.42357424 0.41711771]\n",
      "24 day output [[0.41086653]]\n",
      "25 day input [0.85477071 0.86879962 0.81568368 0.82646831 0.78520477 0.77876502\n",
      " 0.79301403 0.75301403 0.75761971 0.73102097 0.7624781  0.81981656\n",
      " 0.86720193 0.88916235 0.88470344 0.88284484 0.86992455 0.858871\n",
      " 0.97543917 0.93452613 0.88441815 0.86532702 0.83456281 0.85996329\n",
      " 0.86508253 0.89917256 0.83831264 0.85302625 0.83745668 0.80904014\n",
      " 0.80954554 0.76685551 0.75552474 0.74606888 0.76156507 0.67327488\n",
      " 0.68733642 0.7610026  0.75654369 0.73568367 0.72384756 0.75007946\n",
      " 0.73705319 0.74900344 0.75715506 0.73477886 0.6984634  0.71131036\n",
      " 0.74935396 0.75013653 0.71179128 0.69600159 0.66710414 0.62024044\n",
      " 0.65018137 0.65759933 0.70696553 0.70202565 0.71467698 0.68158138\n",
      " 0.68076622 0.65328714 0.66944365 0.69762376 0.68077438 0.64576316\n",
      " 0.62213978 0.65109435 0.68234763 0.70791926 0.73546362 0.74831869\n",
      " 0.80767879 0.81186057 0.82393312 0.57483315 0.58034742 0.58238316\n",
      " 0.58087528 0.57634813 0.56952405 0.56111431 0.55172282 0.54181784\n",
      " 0.53173649 0.52170664 0.51187122 0.5023123  0.49307081 0.4841606\n",
      " 0.47558013 0.46731845 0.4593606  0.45169038 0.44429153 0.43714857\n",
      " 0.43024719 0.42357424 0.41711771 0.41086653]\n",
      "25 day output [[0.40481058]]\n",
      "26 day input [0.86879962 0.81568368 0.82646831 0.78520477 0.77876502 0.79301403\n",
      " 0.75301403 0.75761971 0.73102097 0.7624781  0.81981656 0.86720193\n",
      " 0.88916235 0.88470344 0.88284484 0.86992455 0.858871   0.97543917\n",
      " 0.93452613 0.88441815 0.86532702 0.83456281 0.85996329 0.86508253\n",
      " 0.89917256 0.83831264 0.85302625 0.83745668 0.80904014 0.80954554\n",
      " 0.76685551 0.75552474 0.74606888 0.76156507 0.67327488 0.68733642\n",
      " 0.7610026  0.75654369 0.73568367 0.72384756 0.75007946 0.73705319\n",
      " 0.74900344 0.75715506 0.73477886 0.6984634  0.71131036 0.74935396\n",
      " 0.75013653 0.71179128 0.69600159 0.66710414 0.62024044 0.65018137\n",
      " 0.65759933 0.70696553 0.70202565 0.71467698 0.68158138 0.68076622\n",
      " 0.65328714 0.66944365 0.69762376 0.68077438 0.64576316 0.62213978\n",
      " 0.65109435 0.68234763 0.70791926 0.73546362 0.74831869 0.80767879\n",
      " 0.81186057 0.82393312 0.57483315 0.58034742 0.58238316 0.58087528\n",
      " 0.57634813 0.56952405 0.56111431 0.55172282 0.54181784 0.53173649\n",
      " 0.52170664 0.51187122 0.5023123  0.49307081 0.4841606  0.47558013\n",
      " 0.46731845 0.4593606  0.45169038 0.44429153 0.43714857 0.43024719\n",
      " 0.42357424 0.41711771 0.41086653 0.40481058]\n",
      "26 day output [[0.39894032]]\n",
      "27 day input [0.81568368 0.82646831 0.78520477 0.77876502 0.79301403 0.75301403\n",
      " 0.75761971 0.73102097 0.7624781  0.81981656 0.86720193 0.88916235\n",
      " 0.88470344 0.88284484 0.86992455 0.858871   0.97543917 0.93452613\n",
      " 0.88441815 0.86532702 0.83456281 0.85996329 0.86508253 0.89917256\n",
      " 0.83831264 0.85302625 0.83745668 0.80904014 0.80954554 0.76685551\n",
      " 0.75552474 0.74606888 0.76156507 0.67327488 0.68733642 0.7610026\n",
      " 0.75654369 0.73568367 0.72384756 0.75007946 0.73705319 0.74900344\n",
      " 0.75715506 0.73477886 0.6984634  0.71131036 0.74935396 0.75013653\n",
      " 0.71179128 0.69600159 0.66710414 0.62024044 0.65018137 0.65759933\n",
      " 0.70696553 0.70202565 0.71467698 0.68158138 0.68076622 0.65328714\n",
      " 0.66944365 0.69762376 0.68077438 0.64576316 0.62213978 0.65109435\n",
      " 0.68234763 0.70791926 0.73546362 0.74831869 0.80767879 0.81186057\n",
      " 0.82393312 0.57483315 0.58034742 0.58238316 0.58087528 0.57634813\n",
      " 0.56952405 0.56111431 0.55172282 0.54181784 0.53173649 0.52170664\n",
      " 0.51187122 0.5023123  0.49307081 0.4841606  0.47558013 0.46731845\n",
      " 0.4593606  0.45169038 0.44429153 0.43714857 0.43024719 0.42357424\n",
      " 0.41711771 0.41086653 0.40481058 0.39894032]\n",
      "27 day output [[0.39324713]]\n",
      "28 day input [0.82646831 0.78520477 0.77876502 0.79301403 0.75301403 0.75761971\n",
      " 0.73102097 0.7624781  0.81981656 0.86720193 0.88916235 0.88470344\n",
      " 0.88284484 0.86992455 0.858871   0.97543917 0.93452613 0.88441815\n",
      " 0.86532702 0.83456281 0.85996329 0.86508253 0.89917256 0.83831264\n",
      " 0.85302625 0.83745668 0.80904014 0.80954554 0.76685551 0.75552474\n",
      " 0.74606888 0.76156507 0.67327488 0.68733642 0.7610026  0.75654369\n",
      " 0.73568367 0.72384756 0.75007946 0.73705319 0.74900344 0.75715506\n",
      " 0.73477886 0.6984634  0.71131036 0.74935396 0.75013653 0.71179128\n",
      " 0.69600159 0.66710414 0.62024044 0.65018137 0.65759933 0.70696553\n",
      " 0.70202565 0.71467698 0.68158138 0.68076622 0.65328714 0.66944365\n",
      " 0.69762376 0.68077438 0.64576316 0.62213978 0.65109435 0.68234763\n",
      " 0.70791926 0.73546362 0.74831869 0.80767879 0.81186057 0.82393312\n",
      " 0.57483315 0.58034742 0.58238316 0.58087528 0.57634813 0.56952405\n",
      " 0.56111431 0.55172282 0.54181784 0.53173649 0.52170664 0.51187122\n",
      " 0.5023123  0.49307081 0.4841606  0.47558013 0.46731845 0.4593606\n",
      " 0.45169038 0.44429153 0.43714857 0.43024719 0.42357424 0.41711771\n",
      " 0.41086653 0.40481058 0.39894032 0.39324713]\n",
      "28 day output [[0.38772273]]\n",
      "29 day input [0.78520477 0.77876502 0.79301403 0.75301403 0.75761971 0.73102097\n",
      " 0.7624781  0.81981656 0.86720193 0.88916235 0.88470344 0.88284484\n",
      " 0.86992455 0.858871   0.97543917 0.93452613 0.88441815 0.86532702\n",
      " 0.83456281 0.85996329 0.86508253 0.89917256 0.83831264 0.85302625\n",
      " 0.83745668 0.80904014 0.80954554 0.76685551 0.75552474 0.74606888\n",
      " 0.76156507 0.67327488 0.68733642 0.7610026  0.75654369 0.73568367\n",
      " 0.72384756 0.75007946 0.73705319 0.74900344 0.75715506 0.73477886\n",
      " 0.6984634  0.71131036 0.74935396 0.75013653 0.71179128 0.69600159\n",
      " 0.66710414 0.62024044 0.65018137 0.65759933 0.70696553 0.70202565\n",
      " 0.71467698 0.68158138 0.68076622 0.65328714 0.66944365 0.69762376\n",
      " 0.68077438 0.64576316 0.62213978 0.65109435 0.68234763 0.70791926\n",
      " 0.73546362 0.74831869 0.80767879 0.81186057 0.82393312 0.57483315\n",
      " 0.58034742 0.58238316 0.58087528 0.57634813 0.56952405 0.56111431\n",
      " 0.55172282 0.54181784 0.53173649 0.52170664 0.51187122 0.5023123\n",
      " 0.49307081 0.4841606  0.47558013 0.46731845 0.4593606  0.45169038\n",
      " 0.44429153 0.43714857 0.43024719 0.42357424 0.41711771 0.41086653\n",
      " 0.40481058 0.39894032 0.39324713 0.38772273]\n",
      "29 day output [[0.38235962]]\n",
      "[[0.5748331546783447], [0.5803474187850952], [0.5823831558227539], [0.5808752775192261], [0.5763481259346008], [0.5695240497589111], [0.5611143112182617], [0.5517228245735168], [0.541817843914032], [0.5317364931106567], [0.5217066407203674], [0.5118712186813354], [0.5023123025894165], [0.4930708110332489], [0.4841606020927429], [0.4755801260471344], [0.46731844544410706], [0.45936059951782227], [0.4516903758049011], [0.44429153203964233], [0.4371485710144043], [0.4302471876144409], [0.4235742390155792], [0.417117714881897], [0.41086652874946594], [0.4048105776309967], [0.3989403247833252], [0.393247127532959], [0.3877227306365967], [0.3823596239089966]]\n"
     ]
    }
   ],
   "source": [
    "# demonstrate prediction for next 10 days\n",
    "from numpy import array\n",
    "\n",
    "lst_output=[]\n",
    "n_steps=100\n",
    "i=0\n",
    "while(i<30):\n",
    "    \n",
    "    if(len(temp_input)>100):\n",
    "        #print(temp_input)\n",
    "        x_input=np.array(temp_input[1:])\n",
    "        print(\"{} day input {}\".format(i,x_input))\n",
    "        x_input=x_input.reshape(1,-1)\n",
    "        x_input = x_input.reshape((1, n_steps, 1))\n",
    "        #print(x_input)\n",
    "        yhat = model.predict(x_input, verbose=0)\n",
    "        print(\"{} day output {}\".format(i,yhat))\n",
    "        temp_input.extend(yhat[0].tolist())\n",
    "        temp_input=temp_input[1:]\n",
    "        #print(temp_input)\n",
    "        lst_output.extend(yhat.tolist())\n",
    "        i=i+1\n",
    "    else:\n",
    "        x_input = x_input.reshape((1, n_steps,1))\n",
    "        yhat = model.predict(x_input, verbose=0)\n",
    "        print(yhat[0])\n",
    "        temp_input.extend(yhat[0].tolist())\n",
    "        print(len(temp_input))\n",
    "        lst_output.extend(yhat.tolist())\n",
    "        i=i+1\n",
    "    \n",
    "\n",
    "print(lst_output)"
   ]
  },
  {
   "cell_type": "code",
   "execution_count": 52,
   "id": "3e927eee",
   "metadata": {},
   "outputs": [],
   "source": [
    "day_new=np.arange(1,101)\n",
    "day_pred=np.arange(101,131)"
   ]
  },
  {
   "cell_type": "code",
   "execution_count": 53,
   "id": "6f69fc97",
   "metadata": {},
   "outputs": [
    {
     "data": {
      "text/plain": [
       "2956"
      ]
     },
     "execution_count": 53,
     "metadata": {},
     "output_type": "execute_result"
    }
   ],
   "source": [
    "len(df1)"
   ]
  },
  {
   "cell_type": "code",
   "execution_count": 54,
   "id": "d8dd0187",
   "metadata": {},
   "outputs": [
    {
     "data": {
      "text/plain": [
       "[<matplotlib.lines.Line2D at 0x17c7c5350>]"
      ]
     },
     "execution_count": 54,
     "metadata": {},
     "output_type": "execute_result"
    },
    {
     "data": {
      "image/png": "[encoded data removed]",
      "text/plain": [
       "<Figure size 640x480 with 1 Axes>"
      ]
     },
     "metadata": {},
     "output_type": "display_data"
    }
   ],
   "source": [
    "plt.plot(day_new,scaler.inverse_transform(df1[2856:]))\n",
    "plt.plot(day_pred,scaler.inverse_transform(lst_output))"
   ]
  },
  {
   "cell_type": "code",
   "execution_count": 55,
   "id": "34ebc90a",
   "metadata": {},
   "outputs": [
    {
     "data": {
      "text/plain": [
       "[<matplotlib.lines.Line2D at 0x17c7d2d50>]"
      ]
     },
     "execution_count": 55,
     "metadata": {},
     "output_type": "execute_result"
    },
    {
     "data": {
      "image/png": "[encoded data removed]",
      "text/plain": [
       "<Figure size 640x480 with 1 Axes>"
      ]
     },
     "metadata": {},
     "output_type": "display_data"
    }
   ],
   "source": [
    "df3=df1.tolist()\n",
    "df3.extend(lst_output)\n",
    "plt.plot(df3[1200:])"
   ]
  },
  {
   "cell_type": "code",
   "execution_count": 56,
   "id": "966db714",
   "metadata": {},
   "outputs": [],
   "source": [
    "df3=scaler.inverse_transform(df3).tolist()"
   ]
  },
  {
   "cell_type": "code",
   "execution_count": 57,
   "id": "ecbe9cc7",
   "metadata": {},
   "outputs": [
    {
     "data": {
      "text/plain": [
       "[<matplotlib.lines.Line2D at 0x17f5c4650>]"
      ]
     },
     "execution_count": 57,
     "metadata": {},
     "output_type": "execute_result"
    },
    {
     "data": {
      "image/png": "[encoded data removed]",
      "text/plain": [
       "<Figure size 640x480 with 1 Axes>"
      ]
     },
     "metadata": {},
     "output_type": "display_data"
    }
   ],
   "source": [
    "plt.plot(df3)"
   ]
  },
  {
   "cell_type": "code",
   "execution_count": null,
   "id": "c8bb3a38",
   "metadata": {},
   "outputs": [],
   "source": []
  }
 ],
 "metadata": {
  "kernelspec": {
   "display_name": "Python 3 (ipykernel)",
   "language": "python",
   "name": "python3"
  },
  "language_info": {
   "codemirror_mode": {
    "name": "ipython",
    "version": 3
   },
   "file_extension": ".py",
   "mimetype": "text/x-python",
   "name": "python",
   "nbconvert_exporter": "python",
   "pygments_lexer": "ipython3",
   "version": "3.11.4"
  }
 },
 "nbformat": 4,
 "nbformat_minor": 5
}
